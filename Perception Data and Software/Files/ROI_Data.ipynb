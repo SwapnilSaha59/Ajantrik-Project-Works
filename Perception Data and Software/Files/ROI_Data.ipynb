{
  "nbformat": 4,
  "nbformat_minor": 0,
  "metadata": {
    "colab": {
      "name": "ROI.ipynb",
      "provenance": [],
      "collapsed_sections": []
    },
    "kernelspec": {
      "name": "python3",
      "display_name": "Python 3"
    },
    "language_info": {
      "name": "python"
    }
  },
  "cells": [
    {
      "cell_type": "code",
      "execution_count": null,
      "metadata": {
        "id": "rTx_BZ2Fw3G-"
      },
      "outputs": [],
      "source": [
        "import numpy as np\n",
        "import cv2 as cv2\n",
        "import matplotlib.image as mpimg \n",
        "from matplotlib.pyplot import imshow\n",
        "%matplotlib inline"
      ]
    },
    {
      "cell_type": "code",
      "source": [
        "testim = cv2.imread('seg_img_690.png')\n",
        "imshow(testim)"
      ],
      "metadata": {
        "colab": {
          "base_uri": "https://localhost:8080/",
          "height": 169
        },
        "id": "j3DpCu3t2EIr",
        "outputId": "6193e5a5-0297-42a3-f1f1-fc55a5784b13"
      },
      "execution_count": null,
      "outputs": [
        {
          "output_type": "execute_result",
          "data": {
            "text/plain": [
              "<matplotlib.image.AxesImage at 0x7fd1551cd750>"
            ]
          },
          "metadata": {},
          "execution_count": 3
        },
        {
          "output_type": "display_data",
          "data": {
            "text/plain": [
              "<Figure size 432x288 with 1 Axes>"
            ],
            "image/png": "[encoded data removed]"
          },
          "metadata": {
            "needs_background": "light"
          }
        }
      ]
    },
    {
      "cell_type": "code",
      "source": [
        "img_gray = cv2.cvtColor(testim, cv2.COLOR_BGR2GRAY)\n",
        "ret, thresh = cv2.threshold(img_gray, 0, 255, cv2.THRESH_BINARY)\n",
        "contours,hierarchy = cv2.findContours(thresh, 1, 2)\n",
        "contours = sorted(contours, key=cv2.contourArea)\n",
        "hull = []\n",
        "for i in range(len(contours)):\n",
        "    hull.append(cv2.convexHull(contours[i], False))\n",
        "drawing = np.zeros((thresh.shape[0], thresh.shape[1], 3), np.uint8)\n",
        "color_contours = (0, 255, 0)\n",
        "color = (255, 0, 0)\n",
        "cv2.drawContours(drawing, contours, len(contours)-1, color_contours, 1, 8, hierarchy)\n",
        "cv2.drawContours(drawing, hull, len(contours)-1, color, 1, 8)\n",
        "imshow(drawing)"
      ],
      "metadata": {
        "id": "C8qKi5V3xCt4",
        "colab": {
          "base_uri": "https://localhost:8080/",
          "height": 169
        },
        "outputId": "b5fefd12-43fc-4229-c75a-bfb77c2bded8"
      },
      "execution_count": null,
      "outputs": [
        {
          "output_type": "execute_result",
          "data": {
            "text/plain": [
              "<matplotlib.image.AxesImage at 0x7fd154c61d90>"
            ]
          },
          "metadata": {},
          "execution_count": 4
        },
        {
          "output_type": "display_data",
          "data": {
            "text/plain": [
              "<Figure size 432x288 with 1 Axes>"
            ],
            "image/png": "[encoded data removed]"
          },
          "metadata": {
            "needs_background": "light"
          }
        }
      ]
    },
    {
      "cell_type": "code",
      "source": [
        "img_gray = cv2.cvtColor(testim, cv2.COLOR_BGR2GRAY)\n",
        "ret, thresh = cv2.threshold(img_gray, 0, 255, cv2.THRESH_BINARY)\n",
        "contours,hierarchy = cv2.findContours(thresh, 1, 2)\n",
        "contours = sorted(contours, key=cv2.contourArea)\n",
        "hull = []\n",
        "for i in range(len(contours)):\n",
        "    hull.append(cv2.convexHull(contours[i], False))\n",
        "drawing = np.zeros((thresh.shape[0], thresh.shape[1], 3), np.uint8)\n",
        "cv2.fillPoly(drawing, pts =hull, color=(255,255,255))\n",
        "cv2.fillPoly(drawing, pts =contours, color=(255,255,255))\n",
        "imshow(drawing)"
      ],
      "metadata": {
        "colab": {
          "base_uri": "https://localhost:8080/",
          "height": 169
        },
        "id": "LDuWgMtiHcMe",
        "outputId": "53a7202e-0ad1-4a62-9528-3a458d5f27a5"
      },
      "execution_count": null,
      "outputs": [
        {
          "output_type": "execute_result",
          "data": {
            "text/plain": [
              "<matplotlib.image.AxesImage at 0x7fd154c55a10>"
            ]
          },
          "metadata": {},
          "execution_count": 5
        },
        {
          "output_type": "display_data",
          "data": {
            "text/plain": [
              "<Figure size 432x288 with 1 Axes>"
            ],
            "image/png": "[encoded data removed]"
          },
          "metadata": {
            "needs_background": "light"
          }
        }
      ]
    },
    {
      "cell_type": "code",
      "source": [
        "img_gray = cv2.cvtColor(testim, cv2.COLOR_BGR2GRAY)\n",
        "ret, thresh = cv2.threshold(img_gray, 0, 255, cv2.THRESH_BINARY)\n",
        "contours,hierarchy = cv2.findContours(thresh, 1, 2)\n",
        "contours = sorted(contours, key=cv2.contourArea)\n",
        "hull = []\n",
        "for i in range(len(contours)):\n",
        "    hull.append(cv2.convexHull(contours[i], False))\n",
        "drawing = np.zeros((thresh.shape[0], thresh.shape[1], 3), np.uint8)\n",
        "cv2.fillPoly(drawing, pts =hull, color=(255,255,255))\n",
        "cv2.fillPoly(drawing, pts =contours, color=(255,255,255))\n",
        "img_dilation = cv2.dilate(drawing, np.ones((5,5), np.uint8), iterations=1)\n",
        "img_erosion = cv2.erode(img_dilation, np.ones((5,5), np.uint8), iterations=1)\n",
        "imshow(img_erosion)"
      ],
      "metadata": {
        "colab": {
          "base_uri": "https://localhost:8080/",
          "height": 169
        },
        "id": "mFEtMdA7FiZh",
        "outputId": "ba47686e-24c2-4576-ce19-450b9b0fdeb3"
      },
      "execution_count": null,
      "outputs": [
        {
          "output_type": "execute_result",
          "data": {
            "text/plain": [
              "<matplotlib.image.AxesImage at 0x7fd154bc7350>"
            ]
          },
          "metadata": {},
          "execution_count": 6
        },
        {
          "output_type": "display_data",
          "data": {
            "text/plain": [
              "<Figure size 432x288 with 1 Axes>"
            ],
            "image/png": "[encoded data removed]"
          },
          "metadata": {
            "needs_background": "light"
          }
        }
      ]
    },
    {
      "cell_type": "code",
      "source": [
        "# Final ROI Function\n",
        "import numpy as np\n",
        "import cv2 as cv2\n",
        "import matplotlib.image as mpimg \n",
        "from matplotlib.pyplot import imshow\n",
        "%matplotlib inline\n",
        "\n",
        "\n",
        "def ROI(image):\n",
        "  try:\n",
        "    testim = cv2.imread(image)\n",
        "    img_gray = cv2.cvtColor(testim, cv2.COLOR_BGR2GRAY)\n",
        "    ret, thresh = cv2.threshold(img_gray, 0, 255, cv2.THRESH_BINARY)\n",
        "    contours,hierarchy = cv2.findContours(thresh, 1, 2)\n",
        "    contours = sorted(contours, key=cv2.contourArea)\n",
        "    hull = []\n",
        "    for i in range(len(contours)):\n",
        "        hull.append(cv2.convexHull(contours[i], False))\n",
        "    drawing = np.zeros((thresh.shape[0], thresh.shape[1], 3), np.uint8)\n",
        "    cv2.fillPoly(drawing, pts =hull, color=(255,255,255))\n",
        "    cv2.fillPoly(drawing, pts =contours, color=(255,255,255))\n",
        "    img_dilation = cv2.dilate(drawing, np.ones((5,5), np.uint8), iterations=1)\n",
        "    img_erosion = cv2.erode(img_dilation, np.ones((5,5), np.uint8), iterations=1)\n",
        "  except:\n",
        "    pass\n",
        "  return img_erosion\n",
        "\n",
        "\n",
        "Result = ROI('seg_img_690.png')\n",
        "imshow(Result)"
      ],
      "metadata": {
        "colab": {
          "base_uri": "https://localhost:8080/",
          "height": 169
        },
        "id": "UVHCA0tnGzPb",
        "outputId": "d3ffd22b-b804-4244-814e-5106e610de88"
      },
      "execution_count": null,
      "outputs": [
        {
          "output_type": "execute_result",
          "data": {
            "text/plain": [
              "<matplotlib.image.AxesImage at 0x7fd154a25b10>"
            ]
          },
          "metadata": {},
          "execution_count": 7
        },
        {
          "output_type": "display_data",
          "data": {
            "text/plain": [
              "<Figure size 432x288 with 1 Axes>"
            ],
            "image/png": "[encoded data removed]"
          },
          "metadata": {
            "needs_background": "light"
          }
        }
      ]
    },
    {
      "cell_type": "code",
      "source": [
        ""
      ],
      "metadata": {
        "id": "CGjwZhGc8jZ5"
      },
      "execution_count": null,
      "outputs": []
    }
  ]
}